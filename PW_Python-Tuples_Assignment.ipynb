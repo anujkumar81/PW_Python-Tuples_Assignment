{
 "cells": [
  {
   "cell_type": "code",
   "execution_count": null,
   "id": "52eda58c-097a-4032-a4ce-cbf525ae323c",
   "metadata": {},
   "outputs": [],
   "source": [
    "#Q1. What is a tuple in Python?\n",
    "#Answer\n",
    "'''Tuples are used to store multiple items in a single variable. Tuple is one of 4 built-in data types in Python used to store collections of data, the other 3 are List, Set, and Dictionary, all with different qualities and usage. A tuple is a collection which is ordered and unchangeable.'''"
   ]
  },
  {
   "cell_type": "code",
   "execution_count": 27,
   "id": "7ffd1b6c-03e8-45ae-88ce-02f7a7c0858c",
   "metadata": {},
   "outputs": [],
   "source": [
    "#Q2. How do you create a tuple in Python?\n",
    "#Answer\n",
    "#Using parentheses: This is the most common way to create a tuple. You simply enclose the values you want to include in the tuple in parentheses, separated by commas. For example:\n",
    "my_tuple = (1, 2, 3, 4, 5)\n",
    "#Using the tuple() constructor: The tuple() constructor can be used to create a tuple from any iterable object, such as a list, string, or range. For example:\n",
    "my_tuple = tuple([1, 2, 3, 4, 5])\n",
    "my_tuple = tuple(\"Hello, world!\")\n",
    "my_tuple = tuple(range(10))\n",
    "#Using tuple packing: Tuple packing is a shorthand way to create a tuple from a sequence of values. It works by simply enclosing the values in parentheses, without any commas. For example:\n",
    "my_tuple = 1, 2, 3, 4, 5"
   ]
  },
  {
   "cell_type": "code",
   "execution_count": null,
   "id": "7e4d71a1-ae40-4743-9206-27d24a3eb643",
   "metadata": {},
   "outputs": [],
   "source": [
    "#Q3. What is the difference between a tuple and a list in Python?\n",
    "#Answer\n",
    "\n",
    "#In Python, tuples and lists are both used to store collections of items, but they have several key differences:\n",
    "\n",
    "#Mutability:\n",
    "Tuple: Tuples are immutable, meaning once created, their elements cannot be changed, added, or removed.\n",
    "List: Lists are mutable, meaning you can modify their elements by changing, adding, or removing items.\n",
    "\n",
    "#Syntax:\n",
    "Tuple: Tuples are defined by enclosing comma-separated elements within parentheses ().\n",
    "List: Lists are defined by enclosing comma-separated elements within square brackets [].\n",
    "\n",
    "#Performance:\n",
    "Tuple: Tuples are generally faster than lists, especially for small collections, because they are simpler and more memory efficient.\n",
    "List: Lists are more flexible and offer more built-in methods and operations than tuples.\n",
    "\n",
    "#Usage:\n",
    "Tuple: Tuples are typically used to store collections of items that should not be changed, such as coordinates, database records, or function arguments.\n",
    "List: Lists are used when you need a collection of items that can be modified, such as maintaining a dynamic list of elements, sorting, or performing insertions and deletions."
   ]
  },
  {
   "cell_type": "code",
   "execution_count": null,
   "id": "cf82bc0d-25c0-4759-aadc-7528e266d58e",
   "metadata": {},
   "outputs": [],
   "source": [
    "#Q4. Can a tuple be changed in Python?\n",
    "#Answer\n",
    "'''No, a tuple cannot be changed in Python. Tuples are immutable, meaning that their elements cannot be modified once created. Attempting to directly update a tuple element will result in a TypeError.'''"
   ]
  },
  {
   "cell_type": "code",
   "execution_count": 28,
   "id": "e78c7dcf-5cb1-44cc-86fa-ee26df649637",
   "metadata": {},
   "outputs": [
    {
     "name": "stdout",
     "output_type": "stream",
     "text": [
      "1\n",
      "5\n",
      "(2, 3)\n",
      "3\n"
     ]
    }
   ],
   "source": [
    "#Q5. How do you access elements in a tuple?\n",
    "#Answer\n",
    "\n",
    "my_tuple = (1, 2, 3, 4, 5)\n",
    "\n",
    "# Access the first element\n",
    "print(my_tuple[0])\n",
    "\n",
    "# Access the last element\n",
    "print(my_tuple[-1])\n",
    "\n",
    "# Access a range of elements\n",
    "print(my_tuple[1:3])\n",
    "\n",
    "# Access an element from the end of the tuple\n",
    "print(my_tuple[-3])"
   ]
  },
  {
   "cell_type": "code",
   "execution_count": null,
   "id": "803dfa67-dcd4-451e-b2f1-6c3fd49f6b94",
   "metadata": {},
   "outputs": [],
   "source": []
  }
 ],
 "metadata": {
  "kernelspec": {
   "display_name": "Python 3 (ipykernel)",
   "language": "python",
   "name": "python3"
  },
  "language_info": {
   "codemirror_mode": {
    "name": "ipython",
    "version": 3
   },
   "file_extension": ".py",
   "mimetype": "text/x-python",
   "name": "python",
   "nbconvert_exporter": "python",
   "pygments_lexer": "ipython3",
   "version": "3.10.8"
  }
 },
 "nbformat": 4,
 "nbformat_minor": 5
}
